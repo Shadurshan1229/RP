{
  "nbformat": 4,
  "nbformat_minor": 0,
  "metadata": {
    "colab": {
      "name": "Q&A Model.ipynb",
      "provenance": [],
      "authorship_tag": "ABX9TyOchV51Y0mHYwiKNMVAzIXZ",
      "include_colab_link": true
    },
    "kernelspec": {
      "name": "python3",
      "display_name": "Python 3"
    },
    "language_info": {
      "name": "python"
    }
  },
  "cells": [
    {
      "cell_type": "markdown",
      "metadata": {
        "id": "view-in-github",
        "colab_type": "text"
      },
      "source": [
        "<a href=\"https://colab.research.google.com/github/Shadurshan1229/RP/blob/Q%26A-Test/Q%26A_Model.ipynb\" target=\"_parent\"><img src=\"https://colab.research.google.com/assets/colab-badge.svg\" alt=\"Open In Colab\"/></a>"
      ]
    },
    {
      "cell_type": "code",
      "source": [
        "context = (\"Tony Stark was a billionaire industrialist, a founding member of the Avengers, and the former CEO of Stark Industries. A brash but brilliant inventor, Stark was\"\n",
        "          \"self-described as a genius, billionaire, playboy, and philanthropist. With his great wealth and exceptional technical knowledge, Stark was one of the world's most\"\n",
        "          \"powerful men following the deaths of his parents and enjoyed the playboy lifestyle for many years until he was kidnapped by the Ten Rings in Afghanistan\"\n",
        "          \"while demonstrating a fleet of Jericho missiles. With his life on the line, Stark created an armored suit which he used to escape his captors. Upon returning home,\"\n",
        "          \"he utilized several more armors to use against terrorists, as well as Obadiah Stane who turned against Stark. Following his fight against Stane, Stark publicly\"\n",
        "          \"revealed himself as Iron Man.\")\n"
      ],
      "metadata": {
        "id": "dtTBWNWeWH2W"
      },
      "execution_count": null,
      "outputs": []
    },
    {
      "cell_type": "code",
      "source": [
        "questions = [\n",
        "      \"Who kidnapped Tony Stark?\",\n",
        "      \"Who is the founder of Avengers?\",\n",
        "      \"What are tony's skills?\"\n",
        "]"
      ],
      "metadata": {
        "id": "b4nMFyxvWz2D"
      },
      "execution_count": null,
      "outputs": []
    },
    {
      "cell_type": "code",
      "source": [
        "!pip install modelzoo-client[transformers]"
      ],
      "metadata": {
        "id": "yb-MjZzi8Hdy"
      },
      "execution_count": null,
      "outputs": []
    },
    {
      "cell_type": "code",
      "execution_count": null,
      "metadata": {
        "id": "QeouKSAF4JzM"
      },
      "outputs": [],
      "source": [
        "from transformers import BertForQuestionAnswering"
      ]
    },
    {
      "cell_type": "code",
      "source": [
        "model = BertForQuestionAnswering.from_pretrained('deepset/bert-base-cased-squad2')"
      ],
      "metadata": {
        "id": "1PDWIbWm8agA"
      },
      "execution_count": null,
      "outputs": []
    },
    {
      "cell_type": "code",
      "source": [
        "from transformers import AutoTokenizer"
      ],
      "metadata": {
        "id": "txsEEKDU88wm"
      },
      "execution_count": null,
      "outputs": []
    },
    {
      "cell_type": "code",
      "source": [
        "tokenizer = AutoTokenizer.from_pretrained('deepset/bert-base-cased-squad2')"
      ],
      "metadata": {
        "id": "-F75xywmTx23"
      },
      "execution_count": null,
      "outputs": []
    },
    {
      "cell_type": "code",
      "source": [
        "tokenizer.encode(questions[0], truncation = True, padding = True)"
      ],
      "metadata": {
        "colab": {
          "base_uri": "https://localhost:8080/"
        },
        "id": "ovJkOJloUAON",
        "outputId": "47f9d6b0-e365-43ec-dd1d-3543892b0285"
      },
      "execution_count": null,
      "outputs": [
        {
          "output_type": "execute_result",
          "data": {
            "text/plain": [
              "[101, 2627, 11665, 3270, 13562, 136, 102]"
            ]
          },
          "metadata": {},
          "execution_count": 16
        }
      ]
    },
    {
      "cell_type": "code",
      "source": [
        "from transformers import pipeline"
      ],
      "metadata": {
        "id": "3D394boRYlC-"
      },
      "execution_count": null,
      "outputs": []
    },
    {
      "cell_type": "code",
      "source": [
        "nlp = pipeline('question-answering', model=model, tokenizer=tokenizer)"
      ],
      "metadata": {
        "id": "wpZmE1jpYty6"
      },
      "execution_count": null,
      "outputs": []
    },
    {
      "cell_type": "code",
      "source": [
        "nlp({\n",
        "    'question': questions[0],\n",
        "     'context': context\n",
        "})"
      ],
      "metadata": {
        "id": "Qf-x4sKDZJgK"
      },
      "execution_count": null,
      "outputs": []
    }
  ]
}